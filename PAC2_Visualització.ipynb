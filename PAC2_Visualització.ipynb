{
 "cells": [
  {
   "cell_type": "markdown",
   "id": "6ca5bc72",
   "metadata": {},
   "source": [
    "# Visualització de dades - Pràctica 2\n",
    "### Alumne: Maria Font Sánchez"
   ]
  },
  {
   "cell_type": "markdown",
   "id": "66485803",
   "metadata": {},
   "source": [
    "### Part I: Preparació de les dades"
   ]
  },
  {
   "cell_type": "markdown",
   "id": "1e29ce7a",
   "metadata": {},
   "source": [
    "La preparació de les dades s'han realitzar es troben en el següent link: [Part I. Preparació de les dades](PRA2_Preparació.html)"
   ]
  },
  {
   "cell_type": "markdown",
   "id": "ba4cfba1",
   "metadata": {},
   "source": [
    "### Part II: Visualització de les dades"
   ]
  },
  {
   "cell_type": "markdown",
   "id": "131c0152",
   "metadata": {},
   "source": [
    "Els projectes i resultats de recerca i innovació, finançats per la Unió Europea durant els anys 2014 i 2020 sota el programa Horizon 2020, són accesibles per a qualsevol ciutadà des del [portal de dades obertes de la Comissió Europea](https://data.europa.eu/en).\n",
    "<br><br>Aquests projectes ens donen informació del volum de finançament per part de la Comissió Europea, i també, la seva distribució per paísos, en els diferents camps de ciència i tecnologia."
   ]
  },
  {
   "cell_type": "markdown",
   "id": "d4ac7b41",
   "metadata": {},
   "source": [
    "<br>Les organitzacions coordinadores de cada país estan enfocades en certs camps d'estudi, els quals determinen els partners amb els quals realitzaran els diferents projectes d'investigació.\n",
    "<br>Cada organització dins d'un país, opta a aquells projectes dins d'un àmbit especific, aquests estan categoritzats amb la taxonomia d'[EuroSciVoc](https://op.europa.eu/es/web/eu-vocabularies/euroscivoc).\n",
    "<br><br>En el mapa, es pot visualitzar per cada país, les principals tres categories o camps de recerca, que més projectes han atret."
   ]
  },
  {
   "cell_type": "code",
   "execution_count": 1,
   "id": "98ee2837",
   "metadata": {},
   "outputs": [
    {
     "data": {
      "text/html": [
       "\n",
       "        <iframe\n",
       "            width=\"900\"\n",
       "            height=\"650\"\n",
       "            src=\"img/1st_question.html\"\n",
       "            frameborder=\"0\"\n",
       "            allowfullscreen\n",
       "            \n",
       "        ></iframe>\n",
       "        "
      ],
      "text/plain": [
       "<IPython.lib.display.IFrame at 0x1b7c54d9790>"
      ]
     },
     "execution_count": 1,
     "metadata": {},
     "output_type": "execute_result"
    }
   ],
   "source": [
    "from IPython.display import IFrame\n",
    "\n",
    "IFrame(src='img/1st_question.html', width=900, height=650)"
   ]
  },
  {
   "cell_type": "markdown",
   "id": "c842f8eb",
   "metadata": {},
   "source": [
    "Tot i que principalment, els paísos són Europeus, també, de forma esporàdica, hi ha participació extra-europea.\n",
    "<br>Els paísos balcànics tenen tendència a fer projectes d'innovació en gestió; els paísos nord-occidentals participen en projectes de ciències pures, com són les relacionades en proteïna (en medicina). Principalment, cada país participa en aquells projectes relacionats amb les seves economies."
   ]
  },
  {
   "cell_type": "markdown",
   "id": "3f458edf",
   "metadata": {},
   "source": [
    "<br>Però, en quines categories s'ha invertit més? És a dir, aquestes que són les principals en molts paísos, són les que més diners han disposat?"
   ]
  },
  {
   "cell_type": "code",
   "execution_count": 2,
   "id": "cdac4bbe",
   "metadata": {},
   "outputs": [
    {
     "data": {
      "text/html": [
       "\n",
       "        <iframe\n",
       "            width=\"900\"\n",
       "            height=\"650\"\n",
       "            src=\"img/2nd_question.html\"\n",
       "            frameborder=\"0\"\n",
       "            allowfullscreen\n",
       "            \n",
       "        ></iframe>\n",
       "        "
      ],
      "text/plain": [
       "<IPython.lib.display.IFrame at 0x1b7c550d310>"
      ]
     },
     "execution_count": 2,
     "metadata": {},
     "output_type": "execute_result"
    }
   ],
   "source": [
    "from IPython.display import IFrame\n",
    "\n",
    "IFrame(src='img/2nd_question.html', width=900, height=650)"
   ]
  },
  {
   "cell_type": "markdown",
   "id": "80a3d788",
   "metadata": {},
   "source": [
    "Doncs sembla que aquestes principals categories, també són les que més inversions tenen. De les 5 categories que destaquen per sobre les altres, sensors, ecosistemes, models de negoci, energia renovable i software. Tenen una inversió per sobre de 4 bilions d'Euros. Per tant, Europa té un gran interès en avançar en aquests camps de ciència.\n",
    "<br><br>També, en un segon nivell, es pot observar que les categories emergents dels últims anys, tenen una força inversió i, el més probable, és que en les següents versions de finançament d'aquest tipus de programa, segueixin creixent. Aquestes són big data, canvi climàtic, energia i fuel, internet de les coses, economia sustanible i machine learning.\n",
    "<br><br>Totes aquestes categories més destacables, la inversió per part de la Comissió Europea és del 70% cap amunt."
   ]
  },
  {
   "cell_type": "markdown",
   "id": "dc0bd0ab",
   "metadata": {},
   "source": [
    "<br>Finalment, cal veure quines empreses s'estan involucrant principalment en aquests projectes."
   ]
  },
  {
   "cell_type": "code",
   "execution_count": 3,
   "id": "d4e054b2",
   "metadata": {},
   "outputs": [
    {
     "data": {
      "text/html": [
       "\n",
       "        <iframe\n",
       "            width=\"900\"\n",
       "            height=\"650\"\n",
       "            src=\"img/3rd_question.html\"\n",
       "            frameborder=\"0\"\n",
       "            allowfullscreen\n",
       "            \n",
       "        ></iframe>\n",
       "        "
      ],
      "text/plain": [
       "<IPython.lib.display.IFrame at 0x1b7c55dcb80>"
      ]
     },
     "execution_count": 3,
     "metadata": {},
     "output_type": "execute_result"
    }
   ],
   "source": [
    "from IPython.display import IFrame\n",
    "\n",
    "IFrame(src='img/3rd_question.html', width=900, height=650)"
   ]
  },
  {
   "cell_type": "markdown",
   "id": "32d707cf",
   "metadata": {},
   "source": [
    "Les institucions educatives (HES) de forma destacable, s'involucren molt més que la resta d'organitzacions, això pot ser degut a que per a poder assolir els seus objectius i tirar endevant els projectes, necessiten més inversió pública. Les organitzacions de sector privat (PRC) i de recerca (REC), amb una involucració menor, també destaquen.\n",
    "<br><br>Cal destacar, que tot i que les empreses privades participin en molt projectes, la distribució d'aquests és considerable, ja que les empreses amb més projectes, tenen com a màxim 37. En canvi, les institucions educatives i de recerca, els projectes estan més concentrats en un grup petit."
   ]
  },
  {
   "cell_type": "code",
   "execution_count": null,
   "id": "6bdbdd56",
   "metadata": {},
   "outputs": [],
   "source": []
  }
 ],
 "metadata": {
  "kernelspec": {
   "display_name": "Python 3 (ipykernel)",
   "language": "python",
   "name": "python3"
  },
  "language_info": {
   "codemirror_mode": {
    "name": "ipython",
    "version": 3
   },
   "file_extension": ".py",
   "mimetype": "text/x-python",
   "name": "python",
   "nbconvert_exporter": "python",
   "pygments_lexer": "ipython3",
   "version": "3.9.13"
  }
 },
 "nbformat": 4,
 "nbformat_minor": 5
}
